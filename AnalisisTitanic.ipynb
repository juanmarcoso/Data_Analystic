{
 "cells": [
  {
   "cell_type": "markdown",
   "metadata": {
    "id": "Fnhgc29kQsZE"
   },
   "source": [
    "# Analisis de un Dataset dado\n",
    "\n",
    "El objetivo del presente trabajo es resolver un problema típico de análisis de datos, utilizando algunas herramientas.\n",
    "\n",
    "En la resolución se deberán utilizar todas las herramientas vistas durante el curso de la UTN de Cordoba, a fin de evaluar la comprensión de las mismas y la correcta utilización de herramientas y técnicas vistas.\n",
    "\n",
    "## Enunciado\n",
    "\n",
    "Se utilizará para el trabajo un set de datos correspondiente a los viajes realizados por el servicio de Taxis de la ciudad de Nueva York.\n",
    "\n",
    "Cada punto a resolver se colocará en una sección aparte debajo de la cual se encuentra la celda en la que se colocará el código correspondiente a la resolución del tema pedido.\n",
    "\n",
    "Se pueden agregar mas celdas en pos de la claridad en el planteo o para generar resultados intermedios."
   ]
  },
  {
   "cell_type": "markdown",
   "metadata": {
    "id": "YbNaCLgW3_GG"
   },
   "source": [
    "### Importación inicial y carga de datos (NO MODIFICAR)"
   ]
  },
  {
   "cell_type": "code",
   "execution_count": null,
   "metadata": {
    "id": "D2c8TgX40FJh"
   },
   "outputs": [],
   "source": [
    "import seaborn as sns\n",
    "import pandas as pd\n",
    "sns.set(style='darkgrid')\n",
    "\n",
    "\"\"\"\n",
    "NO MODIFICAR ESTAS LINEAS.\n",
    "SON LAS RESPONSABLES DE CARGAR LOS DATOS\n",
    "Y RENOMBRAR LAS COLUMNAS, PARA REALIZAR LOS ANÁLISIS\n",
    "\"\"\"\n",
    "df = sns.load_dataset(\"taxis\")\n",
    "df = df.rename(columns={\n",
    "    'pickup':'fecha_hora_subida',\n",
    "    'dropoff':'fecha_hora_bajada',\n",
    "    'passengers':'pasajeros',\n",
    "    'distance':'distancia',\n",
    "    'fare':'tarifa',\n",
    "    'tip':'propina',\n",
    "    'tolls':'peajes',\n",
    "    'payment':'pago',\n",
    "    'pickup_zone':'zona_subida',\n",
    "    'dropoff_zone':'zona_bajada',\n",
    "    'pickup_borough':'barrio_subida',\n",
    "    'dropoff_borough':'barrio_bajada'})\n",
    "df['fecha'] = df['fecha_hora_subida'].dt.date # Crear una columna que contenga solamente fecha, sin hora\n",
    "df['hora_subida'] = df['fecha_hora_subida'].dt.time\n",
    "df['hora_bajada'] = df['fecha_hora_bajada'].dt.time\n",
    "df['duracion'] = df['fecha_hora_bajada']-df['fecha_hora_subida']"
   ]
  },
  {
   "cell_type": "code",
   "execution_count": null,
   "metadata": {
    "colab": {
     "base_uri": "https://localhost:8080/",
     "height": 147
    },
    "id": "Ve1tSaal5h8M",
    "outputId": "c44546c2-91e4-4743-e23c-1acb49c1e74c"
   },
   "outputs": [
    {
     "data": {
      "text/html": [
       "\n",
       "  <div id=\"df-da979b92-a575-4ef7-83f7-2f6402fc39a2\" class=\"colab-df-container\">\n",
       "    <div>\n",
       "<style scoped>\n",
       "    .dataframe tbody tr th:only-of-type {\n",
       "        vertical-align: middle;\n",
       "    }\n",
       "\n",
       "    .dataframe tbody tr th {\n",
       "        vertical-align: top;\n",
       "    }\n",
       "\n",
       "    .dataframe thead th {\n",
       "        text-align: right;\n",
       "    }\n",
       "</style>\n",
       "<table border=\"1\" class=\"dataframe\">\n",
       "  <thead>\n",
       "    <tr style=\"text-align: right;\">\n",
       "      <th></th>\n",
       "      <th>fecha_hora_subida</th>\n",
       "      <th>fecha_hora_bajada</th>\n",
       "      <th>pasajeros</th>\n",
       "      <th>distancia</th>\n",
       "      <th>tarifa</th>\n",
       "      <th>propina</th>\n",
       "      <th>peajes</th>\n",
       "      <th>total</th>\n",
       "      <th>color</th>\n",
       "      <th>pago</th>\n",
       "      <th>...</th>\n",
       "      <th>zona_bajada</th>\n",
       "      <th>barrio_subida</th>\n",
       "      <th>barrio_bajada</th>\n",
       "      <th>fecha</th>\n",
       "      <th>hora_subida</th>\n",
       "      <th>hora_bajada</th>\n",
       "      <th>duracion</th>\n",
       "      <th>hora</th>\n",
       "      <th>fechaHora</th>\n",
       "      <th>fecha2</th>\n",
       "    </tr>\n",
       "  </thead>\n",
       "  <tbody>\n",
       "    <tr>\n",
       "      <th>0</th>\n",
       "      <td>2019-03-23 20:21:09</td>\n",
       "      <td>2019-03-23 20:27:24</td>\n",
       "      <td>1</td>\n",
       "      <td>1.6</td>\n",
       "      <td>7.0</td>\n",
       "      <td>2.15</td>\n",
       "      <td>0.0</td>\n",
       "      <td>12.95</td>\n",
       "      <td>yellow</td>\n",
       "      <td>credit card</td>\n",
       "      <td>...</td>\n",
       "      <td>UN/Turtle Bay South</td>\n",
       "      <td>Manhattan</td>\n",
       "      <td>Manhattan</td>\n",
       "      <td>2019-03-23</td>\n",
       "      <td>20:21:09</td>\n",
       "      <td>20:27:24</td>\n",
       "      <td>0 days 00:06:15</td>\n",
       "      <td>20</td>\n",
       "      <td>2019-03-23 20:21:09</td>\n",
       "      <td>2019-03-23</td>\n",
       "    </tr>\n",
       "  </tbody>\n",
       "</table>\n",
       "<p>1 rows × 21 columns</p>\n",
       "</div>\n",
       "    <div class=\"colab-df-buttons\">\n",
       "\n",
       "  <div class=\"colab-df-container\">\n",
       "    <button class=\"colab-df-convert\" onclick=\"convertToInteractive('df-da979b92-a575-4ef7-83f7-2f6402fc39a2')\"\n",
       "            title=\"Convert this dataframe to an interactive table.\"\n",
       "            style=\"display:none;\">\n",
       "\n",
       "  <svg xmlns=\"http://www.w3.org/2000/svg\" height=\"24px\" viewBox=\"0 -960 960 960\">\n",
       "    <path d=\"M120-120v-720h720v720H120Zm60-500h600v-160H180v160Zm220 220h160v-160H400v160Zm0 220h160v-160H400v160ZM180-400h160v-160H180v160Zm440 0h160v-160H620v160ZM180-180h160v-160H180v160Zm440 0h160v-160H620v160Z\"/>\n",
       "  </svg>\n",
       "    </button>\n",
       "\n",
       "  <style>\n",
       "    .colab-df-container {\n",
       "      display:flex;\n",
       "      gap: 12px;\n",
       "    }\n",
       "\n",
       "    .colab-df-convert {\n",
       "      background-color: #E8F0FE;\n",
       "      border: none;\n",
       "      border-radius: 50%;\n",
       "      cursor: pointer;\n",
       "      display: none;\n",
       "      fill: #1967D2;\n",
       "      height: 32px;\n",
       "      padding: 0 0 0 0;\n",
       "      width: 32px;\n",
       "    }\n",
       "\n",
       "    .colab-df-convert:hover {\n",
       "      background-color: #E2EBFA;\n",
       "      box-shadow: 0px 1px 2px rgba(60, 64, 67, 0.3), 0px 1px 3px 1px rgba(60, 64, 67, 0.15);\n",
       "      fill: #174EA6;\n",
       "    }\n",
       "\n",
       "    .colab-df-buttons div {\n",
       "      margin-bottom: 4px;\n",
       "    }\n",
       "\n",
       "    [theme=dark] .colab-df-convert {\n",
       "      background-color: #3B4455;\n",
       "      fill: #D2E3FC;\n",
       "    }\n",
       "\n",
       "    [theme=dark] .colab-df-convert:hover {\n",
       "      background-color: #434B5C;\n",
       "      box-shadow: 0px 1px 3px 1px rgba(0, 0, 0, 0.15);\n",
       "      filter: drop-shadow(0px 1px 2px rgba(0, 0, 0, 0.3));\n",
       "      fill: #FFFFFF;\n",
       "    }\n",
       "  </style>\n",
       "\n",
       "    <script>\n",
       "      const buttonEl =\n",
       "        document.querySelector('#df-da979b92-a575-4ef7-83f7-2f6402fc39a2 button.colab-df-convert');\n",
       "      buttonEl.style.display =\n",
       "        google.colab.kernel.accessAllowed ? 'block' : 'none';\n",
       "\n",
       "      async function convertToInteractive(key) {\n",
       "        const element = document.querySelector('#df-da979b92-a575-4ef7-83f7-2f6402fc39a2');\n",
       "        const dataTable =\n",
       "          await google.colab.kernel.invokeFunction('convertToInteractive',\n",
       "                                                    [key], {});\n",
       "        if (!dataTable) return;\n",
       "\n",
       "        const docLinkHtml = 'Like what you see? Visit the ' +\n",
       "          '<a target=\"_blank\" href=https://colab.research.google.com/notebooks/data_table.ipynb>data table notebook</a>'\n",
       "          + ' to learn more about interactive tables.';\n",
       "        element.innerHTML = '';\n",
       "        dataTable['output_type'] = 'display_data';\n",
       "        await google.colab.output.renderOutput(dataTable, element);\n",
       "        const docLink = document.createElement('div');\n",
       "        docLink.innerHTML = docLinkHtml;\n",
       "        element.appendChild(docLink);\n",
       "      }\n",
       "    </script>\n",
       "  </div>\n",
       "\n",
       "    </div>\n",
       "  </div>\n"
      ],
      "text/plain": [
       "    fecha_hora_subida   fecha_hora_bajada  pasajeros  distancia  tarifa  \\\n",
       "0 2019-03-23 20:21:09 2019-03-23 20:27:24          1        1.6     7.0   \n",
       "\n",
       "   propina  peajes  total   color         pago  ...          zona_bajada  \\\n",
       "0     2.15     0.0  12.95  yellow  credit card  ...  UN/Turtle Bay South   \n",
       "\n",
       "  barrio_subida barrio_bajada       fecha hora_subida hora_bajada  \\\n",
       "0     Manhattan     Manhattan  2019-03-23    20:21:09    20:27:24   \n",
       "\n",
       "         duracion hora           fechaHora      fecha2  \n",
       "0 0 days 00:06:15   20 2019-03-23 20:21:09  2019-03-23  \n",
       "\n",
       "[1 rows x 21 columns]"
      ]
     },
     "execution_count": 33,
     "metadata": {},
     "output_type": "execute_result"
    }
   ],
   "source": [
    "# df['barrio_subida'].unique()\n",
    "#df.info()\n",
    "# df.describe()\n",
    "df.head(1\n",
    "        )"
   ]
  },
  {
   "cell_type": "markdown",
   "metadata": {
    "id": "Bdc0P83j4Dd2"
   },
   "source": [
    "### Describir el set de datos y mostrar algunos indicadores estadísticos relevantes"
   ]
  },
  {
   "cell_type": "code",
   "execution_count": null,
   "metadata": {
    "id": "IQkfkENZ4I7-"
   },
   "outputs": [],
   "source": [
    "# Colocar el código debajo de este comentario\n",
    "'''\n",
    "En este set de datos se muestran la cantidad de pasajeros por viajes y todavia no se puedee observar si\n",
    "a mas pasajeros la propina es mas grande (por ejemplo).\n",
    "En principio se puede observar que las millas recorridas no son extensas.\n",
    "En princpio los viajes son cortos y se pude apreciar con el maximo de tiempo que duro un viaje.\n",
    "'''\n",
    "\n",
    "# Tomo esta breve interpretacion de:\n",
    "df.describe()\n"
   ]
  },
  {
   "cell_type": "markdown",
   "metadata": {
    "id": "41lqBDut5c40"
   },
   "source": [
    "### Viajes por tipo de Taxi\n",
    "\n",
    "La ciudad cuenta con Taxis de dos tipos (yellow,green). Indicar cuántos viajes se realizaron por cada tipo. Graficar."
   ]
  },
  {
   "cell_type": "code",
   "execution_count": null,
   "metadata": {
    "id": "XaeNtdn7503v"
   },
   "outputs": [],
   "source": [
    "# Viajes por tipo. Total por tipo y graficar.\n",
    "tipoColor = df.groupby([\"color\"])[\"pasajeros\"].count()\n",
    "print(tipoColor)\n",
    "sb = sns.countplot(x=tipoColor)"
   ]
  },
  {
   "cell_type": "code",
   "execution_count": null,
   "metadata": {
    "id": "SCVyLq7_1vw-"
   },
   "outputs": [],
   "source": [
    "#Otra forma de graficar lo mismo. Solo que aqui tomo la cantidad de viajes con la cantidad de pasajeros por viaje.\n",
    "\n",
    "tipoColor = df.groupby([\"color\"])[\"pasajeros\"].count()\n",
    "print(tipoColor)\n",
    "sb = sns.countplot(x=\"color\", hue= \"pasajeros\", data=df)"
   ]
  },
  {
   "cell_type": "markdown",
   "metadata": {
    "id": "lZC1Eu0O6HbJ"
   },
   "source": [
    "### Otros indicadores, por tipo de Taxi\n",
    "\n",
    "Indicar cual es la distancia promedio, la tarifa máxima, mínima y promedio de cada tipo de Taxi."
   ]
  },
  {
   "cell_type": "code",
   "execution_count": null,
   "metadata": {
    "id": "wJJTHroS52qu"
   },
   "outputs": [],
   "source": [
    "# Distancia promedio\n",
    "distanciaProm = pd.DataFrame(df.groupby(by='color')['distancia'].mean())\n",
    "print(round(distanciaProm, 2))\n",
    "print(\"---------------------------\")\n",
    "# Tarifa Maxima\n",
    "tarifaMax = pd.DataFrame(df.groupby(by='color')['tarifa'].max())\n",
    "print(tarifaMax)\n",
    "print(\"---------------------------\")\n",
    "# Tarifa minima\n",
    "tarifaMin = pd.DataFrame(df.groupby(by='color')['tarifa'].min())\n",
    "print(tarifaMin)\n",
    "# Promedio de cada tipo de taxi\n",
    "print(\"---------------------------\")\n",
    "promTipo = pd.DataFrame(df.groupby(by='color').mean())\n",
    "print(round(promTipo, 2))\n",
    "print(\"---------------------------\")"
   ]
  },
  {
   "cell_type": "markdown",
   "metadata": {
    "id": "uwNf4ht46Yob"
   },
   "source": [
    "### Tipos de pago\n",
    "\n",
    "Indicar cual es el tipo de pago más utilizado, y cual es el monto promedio (sacado de la columna `total`) cobrado por cada tipo de pago."
   ]
  },
  {
   "cell_type": "code",
   "execution_count": null,
   "metadata": {
    "id": "nAy7CufK52zP"
   },
   "outputs": [],
   "source": [
    "# Tipo de pago mas usado\n",
    "print(\"---------------------------\")\n",
    "tipoPago = df.groupby(by='pago')['pasajeros'].count()\n",
    "print(tipoPago)\n",
    "print(\"Aqui se muestra en valores totales cual es el pago mas utilizado por los pasajeros\")\n",
    "print(\"---------------------------\")\n",
    "# Promedio total (sobre la columna \"total\") por cada tipo de pago\n",
    "promTotal = df.groupby(by='pago')['total'].mean()\n",
    "print(round(promTotal, 2))"
   ]
  },
  {
   "cell_type": "markdown",
   "metadata": {
    "id": "VZVhu-gK60TR"
   },
   "source": [
    "### Origenes y destinos\n",
    "\n",
    "Indicar cuántos viajes hay por cada ciudad (`barrio_subida`) y por cada zona (`zona_subida`)\n",
    "\n",
    "Determinar, del total de viajes, cuántos son dentro del mismo barrio y cuántos son entre barrios diferentes."
   ]
  },
  {
   "cell_type": "code",
   "execution_count": null,
   "metadata": {
    "id": "6t1xAwSJ7Ux-"
   },
   "outputs": [],
   "source": [
    "print(\"Viajes por barrio_subida\")\n",
    "print(\"---------------------------\")\n",
    "barrioSubida = df.groupby(by='barrio_subida')['pasajeros'].count()\n",
    "print(barrioSubida)\n",
    "print(\"---------------------------\")\n",
    "print(\"Viajes por zona_subida\")\n",
    "zonaSubida = df.groupby(by='zona_subida')['pasajeros'].count()\n",
    "print(zonaSubida)\n",
    "print(\"---------------------------\")\n",
    "print(\"Total de viajes dentro del barrio\")\n",
    "# barriosubida == barriobajada\n",
    "barrioIgual = df[df['barrio_subida'] == df['barrio_bajada']]\n",
    "conteoBarrio = barrioIgual.groupby('barrio_subida')['pasajeros'].count()\n",
    "print(conteoBarrio)\n",
    "print(\"---------------------------\")\n",
    "# Total de viajes entre barrios diferentes\n",
    "barrioDesigual = df[df['barrio_subida'] != df['barrio_bajada']]\n",
    "conteoBarrio2 = barrioDesigual.groupby('barrio_subida')['pasajeros'].count()\n",
    "print(f\"La cantidad de viajes a barrios diferentes es de: {sum(conteoBarrio2)}\")"
   ]
  },
  {
   "cell_type": "markdown",
   "metadata": {
    "id": "6vTpWbZXE1mC"
   },
   "source": [
    "### Evolución de viajes durante el día\n",
    "\n",
    "Indicar gráficamente cómo se distribuyen los viajes a lo largo de 24 horas (usar la columna `hora_subida`)"
   ]
  },
  {
   "cell_type": "code",
   "execution_count": null,
   "metadata": {
    "id": "Ce4VcFe4522P"
   },
   "outputs": [],
   "source": [
    "# Grafico distribucion de viajes en 24 horas. (columna \"hora_subida\")\n",
    "\n",
    "df[\"hora\"] = pd.to_datetime(df[\"fecha_hora_subida\"]).dt.hour\n",
    "sns.countplot(x=\"hora\", data=df)"
   ]
  },
  {
   "cell_type": "markdown",
   "metadata": {
    "id": "ylePxh7OFCAt"
   },
   "source": [
    "### Evolución de la facturación en el tiempo\n",
    "\n",
    "Indicar gráficamente como evoluciona la facturación (total por día) a lo largo del tiempo (usar las fechas ordenadas ascendente)"
   ]
  },
  {
   "cell_type": "code",
   "execution_count": null,
   "metadata": {
    "id": "tr3YFmWI525M"
   },
   "outputs": [],
   "source": [
    "# Grafico evolucion facturacion\n",
    "# Total por dia\n",
    "# Fechas en orden ascendente\n",
    "\n",
    "df[\"fechaHora\"] = pd.to_datetime(df[\"fecha_hora_subida\"])\n",
    "df[\"fecha2\"] = df[\"fechaHora\"].dt.date\n",
    "totalXDia = df.groupby(\"fecha2\")[\"total\"].sum()\n",
    "orderBy = df.sort_values(\"fecha2\")\n",
    "sns.lineplot(x=\"fecha2\", y=\"total\", data=orderBy)"
   ]
  },
  {
   "cell_type": "markdown",
   "metadata": {
    "id": "urol_9nJFX-8"
   },
   "source": [
    "### Costo de la tarifa\n",
    "\n",
    "Determinar el costo promedio por milla de los viajes realizados en Manhattan."
   ]
  },
  {
   "cell_type": "code",
   "execution_count": null,
   "metadata": {
    "colab": {
     "base_uri": "https://localhost:8080/"
    },
    "id": "3YvgTQAJ528F",
    "outputId": "4aa8b87c-aefa-4a3a-e8e0-734e2a159485"
   },
   "outputs": [
    {
     "name": "stdout",
     "output_type": "stream",
     "text": [
      "El precio por milla en Manhattan es de 9.71 dolares\n"
     ]
    }
   ],
   "source": [
    "# Costo promedio por milla en Manhattan\n",
    "# millas/tarifa==costo\n",
    "\n",
    "prom = df.loc[\n",
    "    (df['barrio_subida'] == 'Manhattan')\n",
    "    &\n",
    "    (df['barrio_bajada'] == 'Manhattan')\n",
    "    &\n",
    "    (df['tarifa'] >= 0.1)\n",
    "    &\n",
    "    (df['distancia'] >= 0.1)\n",
    "]['tarifa'].mean()\n",
    "\n",
    "print(f\"El precio por milla en Manhattan es de {round(prom, 2)} dolares\")"
   ]
  },
  {
   "cell_type": "markdown",
   "metadata": {
    "id": "0GMcNVh_GqHp"
   },
   "source": [
    "### La mejor zona...\n",
    "\n",
    "¿En qué zona debería circular un Taxi para tener posibilidades de recibir propinas altas? (utilizar la columna `zona_subida`)"
   ]
  },
  {
   "cell_type": "code",
   "execution_count": null,
   "metadata": {
    "id": "bVNAzHYJ53OT"
   },
   "outputs": [],
   "source": [
    "# Zona de propina mas alta (\"zona_subida\")\n",
    "propinaXLugar = df.groupby(\"zona_subida\")[\"propina\"].mean()\n",
    "mejoresLugares = pd.DataFrame(propinaXLugar.sort_values(ascending=False).head(5))\n",
    "print(mejoresLugares)"
   ]
  },
  {
   "cell_type": "markdown",
   "metadata": {
    "id": "hpDLzEEsHDve"
   },
   "source": [
    "### Pero sólo de día...\n",
    "\n",
    "Mejorar el caso anterior, teniendo en cuenta que el chofer solamente quiere trabajar entre las 8:00 y las 16:00 hs. ¿Se mantiene la misma zona o le conviene trabajar en otra zona?"
   ]
  },
  {
   "cell_type": "code",
   "execution_count": null,
   "metadata": {
    "id": "dYnekLac53RW"
   },
   "outputs": [],
   "source": [
    "# De la anterior, mejor zona entre las 8 y las 16\n",
    "# df[df[\"B\"] > 5].groupby(\"A\")\n",
    "\n",
    "df2 = df[(df[\"hora\"] > 8) & (df[\"hora\"] < 16)].groupby(\"zona_subida\")[\"propina\"].mean()\n",
    "df3 = pd.DataFrame(df2.sort_values(ascending=False).head(5))\n",
    "\n",
    "print(\"Antes elejimos los mejores lugares para ganar propina, voy a tomar los mejores 5 lugares:\")\n",
    "print(round(mejoresLugares, 2))\n",
    "print(\"----------------------\")\n",
    "print(\"Ahora vamos a tomar los 5 mejores lugares entre las 8 y 16: \")\n",
    "print(round(df3, 2))\n",
    "print(\"----------------------\")\n",
    "print(\"Entre esos horarios le conviene trabajar en otras zonas.\")"
   ]
  },
  {
   "cell_type": "markdown",
   "metadata": {
    "id": "sVDQNY68HdHZ"
   },
   "source": [
    "### Correlación\n",
    "\n",
    "Graficar la correlación entre las siguientes variables:\n",
    "\n",
    "* Pasajeros\n",
    "* Distancia\n",
    "* Tarifa\n",
    "* Propina\n",
    "\n",
    "¿Podemos sacar alguna conclusión a partir del gráfico?"
   ]
  },
  {
   "cell_type": "code",
   "execution_count": null,
   "metadata": {
    "colab": {
     "base_uri": "https://localhost:8080/",
     "height": 440
    },
    "id": "-9T_FEqrRjbf",
    "outputId": "8aae0e0a-3167-4efe-d463-e9f873a2147b"
   },
   "outputs": [
    {
     "data": {
      "image/png": "[encoded data removed]",
      "text/plain": [
       "<Figure size 640x480 with 2 Axes>"
      ]
     },
     "metadata": {},
     "output_type": "display_data"
    }
   ],
   "source": [
    "import matplotlib.pyplot as plt\n",
    "\n",
    "dfGrafico = [\"pasajeros\", \"distancia\", \"tarifa\", \"propina\"]\n",
    "correlacion = df[dfGrafico].corr()\n",
    "sns.heatmap(correlacion, annot=True, cmap='coolwarm')\n",
    "plt.show()\n",
    "#Si. Se puede. Por ejemplo que la propina a varia segun el orden. Que se paga mas prpina segun la tarifa que por la cantidad de pasajeros\n",
    "# Se puede observar que los pasajeros ahorran en viajes largos entre varios"
   ]
  },
  {
   "cell_type": "code",
   "execution_count": null,
   "metadata": {
    "id": "YRpjcBFwRyJZ"
   },
   "outputs": [],
   "source": []
  }
 ],
 "metadata": {
  "colab": {
   "provenance": []
  },
  "kernelspec": {
   "display_name": "Python 3 (ipykernel)",
   "language": "python",
   "name": "python3"
  },
  "language_info": {
   "codemirror_mode": {
    "name": "ipython",
    "version": 3
   },
   "file_extension": ".py",
   "mimetype": "text/x-python",
   "name": "python",
   "nbconvert_exporter": "python",
   "pygments_lexer": "ipython3",
   "version": "3.11.4"
  }
 },
 "nbformat": 4,
 "nbformat_minor": 1
}
